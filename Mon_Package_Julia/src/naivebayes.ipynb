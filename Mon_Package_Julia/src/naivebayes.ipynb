{
 "cells": [
  {
   "cell_type": "code",
   "execution_count": 30,
   "metadata": {},
   "outputs": [],
   "source": [
    "using CSV, MLJ, DataFrames, RDatasets, CategoricalArrays, NaiveBayes"
   ]
  },
  {
   "cell_type": "code",
   "execution_count": 2,
   "metadata": {},
   "outputs": [
    {
     "data": {
      "text/plain": [
       "12-element Vector{String}:\n",
       " \"Make\"\n",
       " \"Model\"\n",
       " \"Vehicle Class\"\n",
       " \"Engine Size(L)\"\n",
       " \"Cylinders\"\n",
       " \"Transmission\"\n",
       " \"Fuel Type\"\n",
       " \"Fuel Consumption City (L/100 km)\"\n",
       " \"Fuel Consumption Hwy (L/100 km)\"\n",
       " \"Fuel Consumption Comb (L/100 km)\"\n",
       " \"Fuel Consumption Comb (mpg)\"\n",
       " \"CO2\""
      ]
     },
     "metadata": {},
     "output_type": "display_data"
    }
   ],
   "source": [
    "data = CSV.read(\"D:/Master/S7/R-Julia/Projet/CO2 Emissions_Canada.csv\", DataFrames.DataFrame)\n",
    "rename!(data, :\"CO2 Emissions(g/km)\"=> \"CO2\")\n",
    "names(data)"
   ]
  },
  {
   "cell_type": "code",
   "execution_count": 3,
   "metadata": {},
   "outputs": [
    {
     "data": {
      "text/plain": [
       "5-element Vector{String}:\n",
       " \"Make\"\n",
       " \"Model\"\n",
       " \"Transmission\"\n",
       " \"Fuel Type\"\n",
       " \"Vehicle Class\""
      ]
     },
     "metadata": {},
     "output_type": "display_data"
    }
   ],
   "source": [
    "Qualitatives = [\"Make\",\"Model\",\"Transmission\",\"Fuel Type\",\"Vehicle Class\"]\n",
    "Quantitatives=[\"Engine Size(L)\",\"Cylinders\",\"Fuel Consumption City (L/100 km)\",\"Fuel Consumption Hwy (L/100 km)\",\n",
    "\"Fuel Consumption Comb (L/100 km)\"]#,\"Fuel Consumption Comb (mpg)\"]\n",
    "Target = [\"CO2\"]\n",
    "Features = append!(Qualitatives, Quantitatives)\n",
    "Qualitatives = [\"Make\",\"Model\",\"Transmission\",\"Fuel Type\",\"Vehicle Class\"]"
   ]
  },
  {
   "cell_type": "code",
   "execution_count": 4,
   "metadata": {},
   "outputs": [
    {
     "data": {
      "text/html": [
       "<div><div style = \"float: left;\"><span>7385×11 DataFrame</span></div><div style = \"float: right;\"><span style = \"font-style: italic;\">7360 rows omitted</span></div><div style = \"clear: both;\"></div></div><div class = \"data-frame\" style = \"overflow-x: scroll;\"><table class = \"data-frame\" style = \"margin-bottom: 6px;\"><thead><tr class = \"header\"><th class = \"rowNumber\" style = \"font-weight: bold; text-align: right;\">Row</th><th style = \"text-align: left;\">Make</th><th style = \"text-align: left;\">Model</th><th style = \"text-align: left;\">Vehicle Class</th><th style = \"text-align: left;\">Engine Size(L)</th><th style = \"text-align: left;\">Cylinders</th><th style = \"text-align: left;\">Transmission</th><th style = \"text-align: left;\">Fuel Type</th><th style = \"text-align: left;\">Fuel Consumption City (L/100 km)</th><th style = \"text-align: left;\">Fuel Consumption Hwy (L/100 km)</th><th style = \"text-align: left;\">Fuel Consumption Comb (L/100 km)</th><th style = \"text-align: left;\">Fuel Consumption Comb (mpg)</th></tr><tr class = \"subheader headerLastRow\"><th class = \"rowNumber\" style = \"font-weight: bold; text-align: right;\"></th><th title = \"String15\" style = \"text-align: left;\">String15</th><th title = \"String\" style = \"text-align: left;\">String</th><th title = \"String31\" style = \"text-align: left;\">String31</th><th title = \"Float64\" style = \"text-align: left;\">Float64</th><th title = \"Int64\" style = \"text-align: left;\">Int64</th><th title = \"String7\" style = \"text-align: left;\">String7</th><th title = \"String1\" style = \"text-align: left;\">String1</th><th title = \"Float64\" style = \"text-align: left;\">Float64</th><th title = \"Float64\" style = \"text-align: left;\">Float64</th><th title = \"Float64\" style = \"text-align: left;\">Float64</th><th title = \"Int64\" style = \"text-align: left;\">Int64</th></tr></thead><tbody><tr><td class = \"rowNumber\" style = \"font-weight: bold; text-align: right;\">1</td><td style = \"text-align: left;\">ACURA</td><td style = \"text-align: left;\">ILX</td><td style = \"text-align: left;\">COMPACT</td><td style = \"text-align: right;\">2.0</td><td style = \"text-align: right;\">4</td><td style = \"text-align: left;\">AS5</td><td style = \"text-align: left;\">Z</td><td style = \"text-align: right;\">9.9</td><td style = \"text-align: right;\">6.7</td><td style = \"text-align: right;\">8.5</td><td style = \"text-align: right;\">33</td></tr><tr><td class = \"rowNumber\" style = \"font-weight: bold; text-align: right;\">2</td><td style = \"text-align: left;\">ACURA</td><td style = \"text-align: left;\">ILX</td><td style = \"text-align: left;\">COMPACT</td><td style = \"text-align: right;\">2.4</td><td style = \"text-align: right;\">4</td><td style = \"text-align: left;\">M6</td><td style = \"text-align: left;\">Z</td><td style = \"text-align: right;\">11.2</td><td style = \"text-align: right;\">7.7</td><td style = \"text-align: right;\">9.6</td><td style = \"text-align: right;\">29</td></tr><tr><td class = \"rowNumber\" style = \"font-weight: bold; text-align: right;\">3</td><td style = \"text-align: left;\">ACURA</td><td style = \"text-align: left;\">ILX HYBRID</td><td style = \"text-align: left;\">COMPACT</td><td style = \"text-align: right;\">1.5</td><td style = \"text-align: right;\">4</td><td style = \"text-align: left;\">AV7</td><td style = \"text-align: left;\">Z</td><td style = \"text-align: right;\">6.0</td><td style = \"text-align: right;\">5.8</td><td style = \"text-align: right;\">5.9</td><td style = \"text-align: right;\">48</td></tr><tr><td class = \"rowNumber\" style = \"font-weight: bold; text-align: right;\">4</td><td style = \"text-align: left;\">ACURA</td><td style = \"text-align: left;\">MDX 4WD</td><td style = \"text-align: left;\">SUV - SMALL</td><td style = \"text-align: right;\">3.5</td><td style = \"text-align: right;\">6</td><td style = \"text-align: left;\">AS6</td><td style = \"text-align: left;\">Z</td><td style = \"text-align: right;\">12.7</td><td style = \"text-align: right;\">9.1</td><td style = \"text-align: right;\">11.1</td><td style = \"text-align: right;\">25</td></tr><tr><td class = \"rowNumber\" style = \"font-weight: bold; text-align: right;\">5</td><td style = \"text-align: left;\">ACURA</td><td style = \"text-align: left;\">RDX AWD</td><td style = \"text-align: left;\">SUV - SMALL</td><td style = \"text-align: right;\">3.5</td><td style = \"text-align: right;\">6</td><td style = \"text-align: left;\">AS6</td><td style = \"text-align: left;\">Z</td><td style = \"text-align: right;\">12.1</td><td style = \"text-align: right;\">8.7</td><td style = \"text-align: right;\">10.6</td><td style = \"text-align: right;\">27</td></tr><tr><td class = \"rowNumber\" style = \"font-weight: bold; text-align: right;\">6</td><td style = \"text-align: left;\">ACURA</td><td style = \"text-align: left;\">RLX</td><td style = \"text-align: left;\">MID-SIZE</td><td style = \"text-align: right;\">3.5</td><td style = \"text-align: right;\">6</td><td style = \"text-align: left;\">AS6</td><td style = \"text-align: left;\">Z</td><td style = \"text-align: right;\">11.9</td><td style = \"text-align: right;\">7.7</td><td style = \"text-align: right;\">10.0</td><td style = \"text-align: right;\">28</td></tr><tr><td class = \"rowNumber\" style = \"font-weight: bold; text-align: right;\">7</td><td style = \"text-align: left;\">ACURA</td><td style = \"text-align: left;\">TL</td><td style = \"text-align: left;\">MID-SIZE</td><td style = \"text-align: right;\">3.5</td><td style = \"text-align: right;\">6</td><td style = \"text-align: left;\">AS6</td><td style = \"text-align: left;\">Z</td><td style = \"text-align: right;\">11.8</td><td style = \"text-align: right;\">8.1</td><td style = \"text-align: right;\">10.1</td><td style = \"text-align: right;\">28</td></tr><tr><td class = \"rowNumber\" style = \"font-weight: bold; text-align: right;\">8</td><td style = \"text-align: left;\">ACURA</td><td style = \"text-align: left;\">TL AWD</td><td style = \"text-align: left;\">MID-SIZE</td><td style = \"text-align: right;\">3.7</td><td style = \"text-align: right;\">6</td><td style = \"text-align: left;\">AS6</td><td style = \"text-align: left;\">Z</td><td style = \"text-align: right;\">12.8</td><td style = \"text-align: right;\">9.0</td><td style = \"text-align: right;\">11.1</td><td style = \"text-align: right;\">25</td></tr><tr><td class = \"rowNumber\" style = \"font-weight: bold; text-align: right;\">9</td><td style = \"text-align: left;\">ACURA</td><td style = \"text-align: left;\">TL AWD</td><td style = \"text-align: left;\">MID-SIZE</td><td style = \"text-align: right;\">3.7</td><td style = \"text-align: right;\">6</td><td style = \"text-align: left;\">M6</td><td style = \"text-align: left;\">Z</td><td style = \"text-align: right;\">13.4</td><td style = \"text-align: right;\">9.5</td><td style = \"text-align: right;\">11.6</td><td style = \"text-align: right;\">24</td></tr><tr><td class = \"rowNumber\" style = \"font-weight: bold; text-align: right;\">10</td><td style = \"text-align: left;\">ACURA</td><td style = \"text-align: left;\">TSX</td><td style = \"text-align: left;\">COMPACT</td><td style = \"text-align: right;\">2.4</td><td style = \"text-align: right;\">4</td><td style = \"text-align: left;\">AS5</td><td style = \"text-align: left;\">Z</td><td style = \"text-align: right;\">10.6</td><td style = \"text-align: right;\">7.5</td><td style = \"text-align: right;\">9.2</td><td style = \"text-align: right;\">31</td></tr><tr><td class = \"rowNumber\" style = \"font-weight: bold; text-align: right;\">11</td><td style = \"text-align: left;\">ACURA</td><td style = \"text-align: left;\">TSX</td><td style = \"text-align: left;\">COMPACT</td><td style = \"text-align: right;\">2.4</td><td style = \"text-align: right;\">4</td><td style = \"text-align: left;\">M6</td><td style = \"text-align: left;\">Z</td><td style = \"text-align: right;\">11.2</td><td style = \"text-align: right;\">8.1</td><td style = \"text-align: right;\">9.8</td><td style = \"text-align: right;\">29</td></tr><tr><td class = \"rowNumber\" style = \"font-weight: bold; text-align: right;\">12</td><td style = \"text-align: left;\">ACURA</td><td style = \"text-align: left;\">TSX</td><td style = \"text-align: left;\">COMPACT</td><td style = \"text-align: right;\">3.5</td><td style = \"text-align: right;\">6</td><td style = \"text-align: left;\">AS5</td><td style = \"text-align: left;\">Z</td><td style = \"text-align: right;\">12.1</td><td style = \"text-align: right;\">8.3</td><td style = \"text-align: right;\">10.4</td><td style = \"text-align: right;\">27</td></tr><tr><td class = \"rowNumber\" style = \"font-weight: bold; text-align: right;\">13</td><td style = \"text-align: left;\">ALFA ROMEO</td><td style = \"text-align: left;\">4C</td><td style = \"text-align: left;\">TWO-SEATER</td><td style = \"text-align: right;\">1.8</td><td style = \"text-align: right;\">4</td><td style = \"text-align: left;\">AM6</td><td style = \"text-align: left;\">Z</td><td style = \"text-align: right;\">9.7</td><td style = \"text-align: right;\">6.9</td><td style = \"text-align: right;\">8.4</td><td style = \"text-align: right;\">34</td></tr><tr><td style = \"text-align: right;\">&vellip;</td><td style = \"text-align: right;\">&vellip;</td><td style = \"text-align: right;\">&vellip;</td><td style = \"text-align: right;\">&vellip;</td><td style = \"text-align: right;\">&vellip;</td><td style = \"text-align: right;\">&vellip;</td><td style = \"text-align: right;\">&vellip;</td><td style = \"text-align: right;\">&vellip;</td><td style = \"text-align: right;\">&vellip;</td><td style = \"text-align: right;\">&vellip;</td><td style = \"text-align: right;\">&vellip;</td><td style = \"text-align: right;\">&vellip;</td></tr><tr><td class = \"rowNumber\" style = \"font-weight: bold; text-align: right;\">7374</td><td style = \"text-align: left;\">VOLVO</td><td style = \"text-align: left;\">S60 T5</td><td style = \"text-align: left;\">COMPACT</td><td style = \"text-align: right;\">2.0</td><td style = \"text-align: right;\">4</td><td style = \"text-align: left;\">AS8</td><td style = \"text-align: left;\">Z</td><td style = \"text-align: right;\">10.5</td><td style = \"text-align: right;\">7.1</td><td style = \"text-align: right;\">8.9</td><td style = \"text-align: right;\">32</td></tr><tr><td class = \"rowNumber\" style = \"font-weight: bold; text-align: right;\">7375</td><td style = \"text-align: left;\">VOLVO</td><td style = \"text-align: left;\">S60 T6 AWD</td><td style = \"text-align: left;\">COMPACT</td><td style = \"text-align: right;\">2.0</td><td style = \"text-align: right;\">4</td><td style = \"text-align: left;\">AS8</td><td style = \"text-align: left;\">Z</td><td style = \"text-align: right;\">11.0</td><td style = \"text-align: right;\">7.4</td><td style = \"text-align: right;\">9.4</td><td style = \"text-align: right;\">30</td></tr><tr><td class = \"rowNumber\" style = \"font-weight: bold; text-align: right;\">7376</td><td style = \"text-align: left;\">VOLVO</td><td style = \"text-align: left;\">S90 T6 AWD</td><td style = \"text-align: left;\">MID-SIZE</td><td style = \"text-align: right;\">2.0</td><td style = \"text-align: right;\">4</td><td style = \"text-align: left;\">AS8</td><td style = \"text-align: left;\">Z</td><td style = \"text-align: right;\">11.3</td><td style = \"text-align: right;\">7.5</td><td style = \"text-align: right;\">9.6</td><td style = \"text-align: right;\">29</td></tr><tr><td class = \"rowNumber\" style = \"font-weight: bold; text-align: right;\">7377</td><td style = \"text-align: left;\">VOLVO</td><td style = \"text-align: left;\">V60 T5</td><td style = \"text-align: left;\">STATION WAGON - SMALL</td><td style = \"text-align: right;\">2.0</td><td style = \"text-align: right;\">4</td><td style = \"text-align: left;\">AS8</td><td style = \"text-align: left;\">Z</td><td style = \"text-align: right;\">10.5</td><td style = \"text-align: right;\">7.1</td><td style = \"text-align: right;\">8.9</td><td style = \"text-align: right;\">32</td></tr><tr><td class = \"rowNumber\" style = \"font-weight: bold; text-align: right;\">7378</td><td style = \"text-align: left;\">VOLVO</td><td style = \"text-align: left;\">V60 T6 AWD</td><td style = \"text-align: left;\">STATION WAGON - SMALL</td><td style = \"text-align: right;\">2.0</td><td style = \"text-align: right;\">4</td><td style = \"text-align: left;\">AS8</td><td style = \"text-align: left;\">Z</td><td style = \"text-align: right;\">11.0</td><td style = \"text-align: right;\">7.4</td><td style = \"text-align: right;\">9.4</td><td style = \"text-align: right;\">30</td></tr><tr><td class = \"rowNumber\" style = \"font-weight: bold; text-align: right;\">7379</td><td style = \"text-align: left;\">VOLVO</td><td style = \"text-align: left;\">V60 CC T5 AWD</td><td style = \"text-align: left;\">STATION WAGON - SMALL</td><td style = \"text-align: right;\">2.0</td><td style = \"text-align: right;\">4</td><td style = \"text-align: left;\">AS8</td><td style = \"text-align: left;\">Z</td><td style = \"text-align: right;\">10.8</td><td style = \"text-align: right;\">7.7</td><td style = \"text-align: right;\">9.4</td><td style = \"text-align: right;\">30</td></tr><tr><td class = \"rowNumber\" style = \"font-weight: bold; text-align: right;\">7380</td><td style = \"text-align: left;\">VOLVO</td><td style = \"text-align: left;\">XC40 T4 AWD</td><td style = \"text-align: left;\">SUV - SMALL</td><td style = \"text-align: right;\">2.0</td><td style = \"text-align: right;\">4</td><td style = \"text-align: left;\">AS8</td><td style = \"text-align: left;\">X</td><td style = \"text-align: right;\">10.2</td><td style = \"text-align: right;\">7.5</td><td style = \"text-align: right;\">9.0</td><td style = \"text-align: right;\">31</td></tr><tr><td class = \"rowNumber\" style = \"font-weight: bold; text-align: right;\">7381</td><td style = \"text-align: left;\">VOLVO</td><td style = \"text-align: left;\">XC40 T5 AWD</td><td style = \"text-align: left;\">SUV - SMALL</td><td style = \"text-align: right;\">2.0</td><td style = \"text-align: right;\">4</td><td style = \"text-align: left;\">AS8</td><td style = \"text-align: left;\">Z</td><td style = \"text-align: right;\">10.7</td><td style = \"text-align: right;\">7.7</td><td style = \"text-align: right;\">9.4</td><td style = \"text-align: right;\">30</td></tr><tr><td class = \"rowNumber\" style = \"font-weight: bold; text-align: right;\">7382</td><td style = \"text-align: left;\">VOLVO</td><td style = \"text-align: left;\">XC60 T5 AWD</td><td style = \"text-align: left;\">SUV - SMALL</td><td style = \"text-align: right;\">2.0</td><td style = \"text-align: right;\">4</td><td style = \"text-align: left;\">AS8</td><td style = \"text-align: left;\">Z</td><td style = \"text-align: right;\">11.2</td><td style = \"text-align: right;\">8.3</td><td style = \"text-align: right;\">9.9</td><td style = \"text-align: right;\">29</td></tr><tr><td class = \"rowNumber\" style = \"font-weight: bold; text-align: right;\">7383</td><td style = \"text-align: left;\">VOLVO</td><td style = \"text-align: left;\">XC60 T6 AWD</td><td style = \"text-align: left;\">SUV - SMALL</td><td style = \"text-align: right;\">2.0</td><td style = \"text-align: right;\">4</td><td style = \"text-align: left;\">AS8</td><td style = \"text-align: left;\">Z</td><td style = \"text-align: right;\">11.7</td><td style = \"text-align: right;\">8.6</td><td style = \"text-align: right;\">10.3</td><td style = \"text-align: right;\">27</td></tr><tr><td class = \"rowNumber\" style = \"font-weight: bold; text-align: right;\">7384</td><td style = \"text-align: left;\">VOLVO</td><td style = \"text-align: left;\">XC90 T5 AWD</td><td style = \"text-align: left;\">SUV - STANDARD</td><td style = \"text-align: right;\">2.0</td><td style = \"text-align: right;\">4</td><td style = \"text-align: left;\">AS8</td><td style = \"text-align: left;\">Z</td><td style = \"text-align: right;\">11.2</td><td style = \"text-align: right;\">8.3</td><td style = \"text-align: right;\">9.9</td><td style = \"text-align: right;\">29</td></tr><tr><td class = \"rowNumber\" style = \"font-weight: bold; text-align: right;\">7385</td><td style = \"text-align: left;\">VOLVO</td><td style = \"text-align: left;\">XC90 T6 AWD</td><td style = \"text-align: left;\">SUV - STANDARD</td><td style = \"text-align: right;\">2.0</td><td style = \"text-align: right;\">4</td><td style = \"text-align: left;\">AS8</td><td style = \"text-align: left;\">Z</td><td style = \"text-align: right;\">12.2</td><td style = \"text-align: right;\">8.7</td><td style = \"text-align: right;\">10.7</td><td style = \"text-align: right;\">26</td></tr></tbody></table></div>"
      ],
      "text/latex": [
       "\\begin{tabular}{r|ccccccc}\n",
       "\t& Make & Model & Vehicle Class & Engine Size(L) & Cylinders & Transmission & \\\\\n",
       "\t\\hline\n",
       "\t& String15 & String & String31 & Float64 & Int64 & String7 & \\\\\n",
       "\t\\hline\n",
       "\t1 & ACURA & ILX & COMPACT & 2.0 & 4 & AS5 & $\\dots$ \\\\\n",
       "\t2 & ACURA & ILX & COMPACT & 2.4 & 4 & M6 & $\\dots$ \\\\\n",
       "\t3 & ACURA & ILX HYBRID & COMPACT & 1.5 & 4 & AV7 & $\\dots$ \\\\\n",
       "\t4 & ACURA & MDX 4WD & SUV - SMALL & 3.5 & 6 & AS6 & $\\dots$ \\\\\n",
       "\t5 & ACURA & RDX AWD & SUV - SMALL & 3.5 & 6 & AS6 & $\\dots$ \\\\\n",
       "\t6 & ACURA & RLX & MID-SIZE & 3.5 & 6 & AS6 & $\\dots$ \\\\\n",
       "\t7 & ACURA & TL & MID-SIZE & 3.5 & 6 & AS6 & $\\dots$ \\\\\n",
       "\t8 & ACURA & TL AWD & MID-SIZE & 3.7 & 6 & AS6 & $\\dots$ \\\\\n",
       "\t9 & ACURA & TL AWD & MID-SIZE & 3.7 & 6 & M6 & $\\dots$ \\\\\n",
       "\t10 & ACURA & TSX & COMPACT & 2.4 & 4 & AS5 & $\\dots$ \\\\\n",
       "\t11 & ACURA & TSX & COMPACT & 2.4 & 4 & M6 & $\\dots$ \\\\\n",
       "\t12 & ACURA & TSX & COMPACT & 3.5 & 6 & AS5 & $\\dots$ \\\\\n",
       "\t13 & ALFA ROMEO & 4C & TWO-SEATER & 1.8 & 4 & AM6 & $\\dots$ \\\\\n",
       "\t14 & ASTON MARTIN & DB9 & MINICOMPACT & 5.9 & 12 & A6 & $\\dots$ \\\\\n",
       "\t15 & ASTON MARTIN & RAPIDE & SUBCOMPACT & 5.9 & 12 & A6 & $\\dots$ \\\\\n",
       "\t16 & ASTON MARTIN & V8 VANTAGE & TWO-SEATER & 4.7 & 8 & AM7 & $\\dots$ \\\\\n",
       "\t17 & ASTON MARTIN & V8 VANTAGE & TWO-SEATER & 4.7 & 8 & M6 & $\\dots$ \\\\\n",
       "\t18 & ASTON MARTIN & V8 VANTAGE S & TWO-SEATER & 4.7 & 8 & AM7 & $\\dots$ \\\\\n",
       "\t19 & ASTON MARTIN & V8 VANTAGE S & TWO-SEATER & 4.7 & 8 & M6 & $\\dots$ \\\\\n",
       "\t20 & ASTON MARTIN & VANQUISH & MINICOMPACT & 5.9 & 12 & A6 & $\\dots$ \\\\\n",
       "\t21 & AUDI & A4 & COMPACT & 2.0 & 4 & AV8 & $\\dots$ \\\\\n",
       "\t22 & AUDI & A4 QUATTRO & COMPACT & 2.0 & 4 & AS8 & $\\dots$ \\\\\n",
       "\t23 & AUDI & A4 QUATTRO & COMPACT & 2.0 & 4 & M6 & $\\dots$ \\\\\n",
       "\t24 & AUDI & A5 CABRIOLET QUATTRO & SUBCOMPACT & 2.0 & 4 & AS8 & $\\dots$ \\\\\n",
       "\t$\\dots$ & $\\dots$ & $\\dots$ & $\\dots$ & $\\dots$ & $\\dots$ & $\\dots$ &  \\\\\n",
       "\\end{tabular}\n"
      ],
      "text/plain": [
       "\u001b[1m7385×11 DataFrame\u001b[0m\n",
       "\u001b[1m  Row \u001b[0m│\u001b[1m Make     \u001b[0m\u001b[1m Model         \u001b[0m\u001b[1m Vehicle Class         \u001b[0m\u001b[1m Engine Size(L) \u001b[0m\u001b[1m Cylind\u001b[0m ⋯\n",
       "      │\u001b[90m String15 \u001b[0m\u001b[90m String        \u001b[0m\u001b[90m String31              \u001b[0m\u001b[90m Float64        \u001b[0m\u001b[90m Int64 \u001b[0m ⋯\n",
       "──────┼─────────────────────────────────────────────────────────────────────────\n",
       "    1 │ ACURA     ILX            COMPACT                           2.0         ⋯\n",
       "    2 │ ACURA     ILX            COMPACT                           2.4\n",
       "    3 │ ACURA     ILX HYBRID     COMPACT                           1.5\n",
       "    4 │ ACURA     MDX 4WD        SUV - SMALL                       3.5\n",
       "    5 │ ACURA     RDX AWD        SUV - SMALL                       3.5         ⋯\n",
       "    6 │ ACURA     RLX            MID-SIZE                          3.5\n",
       "    7 │ ACURA     TL             MID-SIZE                          3.5\n",
       "    8 │ ACURA     TL AWD         MID-SIZE                          3.7\n",
       "  ⋮   │    ⋮            ⋮                  ⋮                  ⋮             ⋮  ⋱\n",
       " 7379 │ VOLVO     V60 CC T5 AWD  STATION WAGON - SMALL             2.0         ⋯\n",
       " 7380 │ VOLVO     XC40 T4 AWD    SUV - SMALL                       2.0\n",
       " 7381 │ VOLVO     XC40 T5 AWD    SUV - SMALL                       2.0\n",
       " 7382 │ VOLVO     XC60 T5 AWD    SUV - SMALL                       2.0\n",
       " 7383 │ VOLVO     XC60 T6 AWD    SUV - SMALL                       2.0         ⋯\n",
       " 7384 │ VOLVO     XC90 T5 AWD    SUV - STANDARD                    2.0\n",
       " 7385 │ VOLVO     XC90 T6 AWD    SUV - STANDARD                    2.0\n",
       "\u001b[36m                                                 7 columns and 7370 rows omitted\u001b[0m"
      ]
     },
     "metadata": {},
     "output_type": "display_data"
    }
   ],
   "source": [
    "y = data.CO2\n",
    "X = select(data, Not(:CO2))"
   ]
  },
  {
   "cell_type": "code",
   "execution_count": 5,
   "metadata": {},
   "outputs": [
    {
     "data": {
      "text/plain": [
       "3-element Vector{Int64}:\n",
       " 2163\n",
       " 1783\n",
       " 5638"
      ]
     },
     "metadata": {},
     "output_type": "display_data"
    }
   ],
   "source": [
    "train, test = partition(eachindex(y), 0.5, shuffle=true, rng=424);\n",
    "train[1:3]"
   ]
  },
  {
   "cell_type": "code",
   "execution_count": 6,
   "metadata": {},
   "outputs": [
    {
     "data": {
      "text/html": [
       "<div><div style = \"float: left;\"><span>7385×5 DataFrame</span></div><div style = \"float: right;\"><span style = \"font-style: italic;\">7360 rows omitted</span></div><div style = \"clear: both;\"></div></div><div class = \"data-frame\" style = \"overflow-x: scroll;\"><table class = \"data-frame\" style = \"margin-bottom: 6px;\"><thead><tr class = \"header\"><th class = \"rowNumber\" style = \"font-weight: bold; text-align: right;\">Row</th><th style = \"text-align: left;\">Engine Size(L)</th><th style = \"text-align: left;\">Cylinders</th><th style = \"text-align: left;\">Fuel Consumption City (L/100 km)</th><th style = \"text-align: left;\">Fuel Consumption Hwy (L/100 km)</th><th style = \"text-align: left;\">Fuel Consumption Comb (L/100 km)</th></tr><tr class = \"subheader headerLastRow\"><th class = \"rowNumber\" style = \"font-weight: bold; text-align: right;\"></th><th title = \"Float64\" style = \"text-align: left;\">Float64</th><th title = \"Int64\" style = \"text-align: left;\">Int64</th><th title = \"Float64\" style = \"text-align: left;\">Float64</th><th title = \"Float64\" style = \"text-align: left;\">Float64</th><th title = \"Float64\" style = \"text-align: left;\">Float64</th></tr></thead><tbody><tr><td class = \"rowNumber\" style = \"font-weight: bold; text-align: right;\">1</td><td style = \"text-align: right;\">2.0</td><td style = \"text-align: right;\">4</td><td style = \"text-align: right;\">9.9</td><td style = \"text-align: right;\">6.7</td><td style = \"text-align: right;\">8.5</td></tr><tr><td class = \"rowNumber\" style = \"font-weight: bold; text-align: right;\">2</td><td style = \"text-align: right;\">2.4</td><td style = \"text-align: right;\">4</td><td style = \"text-align: right;\">11.2</td><td style = \"text-align: right;\">7.7</td><td style = \"text-align: right;\">9.6</td></tr><tr><td class = \"rowNumber\" style = \"font-weight: bold; text-align: right;\">3</td><td style = \"text-align: right;\">1.5</td><td style = \"text-align: right;\">4</td><td style = \"text-align: right;\">6.0</td><td style = \"text-align: right;\">5.8</td><td style = \"text-align: right;\">5.9</td></tr><tr><td class = \"rowNumber\" style = \"font-weight: bold; text-align: right;\">4</td><td style = \"text-align: right;\">3.5</td><td style = \"text-align: right;\">6</td><td style = \"text-align: right;\">12.7</td><td style = \"text-align: right;\">9.1</td><td style = \"text-align: right;\">11.1</td></tr><tr><td class = \"rowNumber\" style = \"font-weight: bold; text-align: right;\">5</td><td style = \"text-align: right;\">3.5</td><td style = \"text-align: right;\">6</td><td style = \"text-align: right;\">12.1</td><td style = \"text-align: right;\">8.7</td><td style = \"text-align: right;\">10.6</td></tr><tr><td class = \"rowNumber\" style = \"font-weight: bold; text-align: right;\">6</td><td style = \"text-align: right;\">3.5</td><td style = \"text-align: right;\">6</td><td style = \"text-align: right;\">11.9</td><td style = \"text-align: right;\">7.7</td><td style = \"text-align: right;\">10.0</td></tr><tr><td class = \"rowNumber\" style = \"font-weight: bold; text-align: right;\">7</td><td style = \"text-align: right;\">3.5</td><td style = \"text-align: right;\">6</td><td style = \"text-align: right;\">11.8</td><td style = \"text-align: right;\">8.1</td><td style = \"text-align: right;\">10.1</td></tr><tr><td class = \"rowNumber\" style = \"font-weight: bold; text-align: right;\">8</td><td style = \"text-align: right;\">3.7</td><td style = \"text-align: right;\">6</td><td style = \"text-align: right;\">12.8</td><td style = \"text-align: right;\">9.0</td><td style = \"text-align: right;\">11.1</td></tr><tr><td class = \"rowNumber\" style = \"font-weight: bold; text-align: right;\">9</td><td style = \"text-align: right;\">3.7</td><td style = \"text-align: right;\">6</td><td style = \"text-align: right;\">13.4</td><td style = \"text-align: right;\">9.5</td><td style = \"text-align: right;\">11.6</td></tr><tr><td class = \"rowNumber\" style = \"font-weight: bold; text-align: right;\">10</td><td style = \"text-align: right;\">2.4</td><td style = \"text-align: right;\">4</td><td style = \"text-align: right;\">10.6</td><td style = \"text-align: right;\">7.5</td><td style = \"text-align: right;\">9.2</td></tr><tr><td class = \"rowNumber\" style = \"font-weight: bold; text-align: right;\">11</td><td style = \"text-align: right;\">2.4</td><td style = \"text-align: right;\">4</td><td style = \"text-align: right;\">11.2</td><td style = \"text-align: right;\">8.1</td><td style = \"text-align: right;\">9.8</td></tr><tr><td class = \"rowNumber\" style = \"font-weight: bold; text-align: right;\">12</td><td style = \"text-align: right;\">3.5</td><td style = \"text-align: right;\">6</td><td style = \"text-align: right;\">12.1</td><td style = \"text-align: right;\">8.3</td><td style = \"text-align: right;\">10.4</td></tr><tr><td class = \"rowNumber\" style = \"font-weight: bold; text-align: right;\">13</td><td style = \"text-align: right;\">1.8</td><td style = \"text-align: right;\">4</td><td style = \"text-align: right;\">9.7</td><td style = \"text-align: right;\">6.9</td><td style = \"text-align: right;\">8.4</td></tr><tr><td style = \"text-align: right;\">&vellip;</td><td style = \"text-align: right;\">&vellip;</td><td style = \"text-align: right;\">&vellip;</td><td style = \"text-align: right;\">&vellip;</td><td style = \"text-align: right;\">&vellip;</td><td style = \"text-align: right;\">&vellip;</td></tr><tr><td class = \"rowNumber\" style = \"font-weight: bold; text-align: right;\">7374</td><td style = \"text-align: right;\">2.0</td><td style = \"text-align: right;\">4</td><td style = \"text-align: right;\">10.5</td><td style = \"text-align: right;\">7.1</td><td style = \"text-align: right;\">8.9</td></tr><tr><td class = \"rowNumber\" style = \"font-weight: bold; text-align: right;\">7375</td><td style = \"text-align: right;\">2.0</td><td style = \"text-align: right;\">4</td><td style = \"text-align: right;\">11.0</td><td style = \"text-align: right;\">7.4</td><td style = \"text-align: right;\">9.4</td></tr><tr><td class = \"rowNumber\" style = \"font-weight: bold; text-align: right;\">7376</td><td style = \"text-align: right;\">2.0</td><td style = \"text-align: right;\">4</td><td style = \"text-align: right;\">11.3</td><td style = \"text-align: right;\">7.5</td><td style = \"text-align: right;\">9.6</td></tr><tr><td class = \"rowNumber\" style = \"font-weight: bold; text-align: right;\">7377</td><td style = \"text-align: right;\">2.0</td><td style = \"text-align: right;\">4</td><td style = \"text-align: right;\">10.5</td><td style = \"text-align: right;\">7.1</td><td style = \"text-align: right;\">8.9</td></tr><tr><td class = \"rowNumber\" style = \"font-weight: bold; text-align: right;\">7378</td><td style = \"text-align: right;\">2.0</td><td style = \"text-align: right;\">4</td><td style = \"text-align: right;\">11.0</td><td style = \"text-align: right;\">7.4</td><td style = \"text-align: right;\">9.4</td></tr><tr><td class = \"rowNumber\" style = \"font-weight: bold; text-align: right;\">7379</td><td style = \"text-align: right;\">2.0</td><td style = \"text-align: right;\">4</td><td style = \"text-align: right;\">10.8</td><td style = \"text-align: right;\">7.7</td><td style = \"text-align: right;\">9.4</td></tr><tr><td class = \"rowNumber\" style = \"font-weight: bold; text-align: right;\">7380</td><td style = \"text-align: right;\">2.0</td><td style = \"text-align: right;\">4</td><td style = \"text-align: right;\">10.2</td><td style = \"text-align: right;\">7.5</td><td style = \"text-align: right;\">9.0</td></tr><tr><td class = \"rowNumber\" style = \"font-weight: bold; text-align: right;\">7381</td><td style = \"text-align: right;\">2.0</td><td style = \"text-align: right;\">4</td><td style = \"text-align: right;\">10.7</td><td style = \"text-align: right;\">7.7</td><td style = \"text-align: right;\">9.4</td></tr><tr><td class = \"rowNumber\" style = \"font-weight: bold; text-align: right;\">7382</td><td style = \"text-align: right;\">2.0</td><td style = \"text-align: right;\">4</td><td style = \"text-align: right;\">11.2</td><td style = \"text-align: right;\">8.3</td><td style = \"text-align: right;\">9.9</td></tr><tr><td class = \"rowNumber\" style = \"font-weight: bold; text-align: right;\">7383</td><td style = \"text-align: right;\">2.0</td><td style = \"text-align: right;\">4</td><td style = \"text-align: right;\">11.7</td><td style = \"text-align: right;\">8.6</td><td style = \"text-align: right;\">10.3</td></tr><tr><td class = \"rowNumber\" style = \"font-weight: bold; text-align: right;\">7384</td><td style = \"text-align: right;\">2.0</td><td style = \"text-align: right;\">4</td><td style = \"text-align: right;\">11.2</td><td style = \"text-align: right;\">8.3</td><td style = \"text-align: right;\">9.9</td></tr><tr><td class = \"rowNumber\" style = \"font-weight: bold; text-align: right;\">7385</td><td style = \"text-align: right;\">2.0</td><td style = \"text-align: right;\">4</td><td style = \"text-align: right;\">12.2</td><td style = \"text-align: right;\">8.7</td><td style = \"text-align: right;\">10.7</td></tr></tbody></table></div>"
      ],
      "text/latex": [
       "\\begin{tabular}{r|ccccc}\n",
       "\t& Engine Size(L) & Cylinders & Fuel Consumption City (L/100 km) & Fuel Consumption Hwy (L/100 km) & \\\\\n",
       "\t\\hline\n",
       "\t& Float64 & Int64 & Float64 & Float64 & \\\\\n",
       "\t\\hline\n",
       "\t1 & 2.0 & 4 & 9.9 & 6.7 & $\\dots$ \\\\\n",
       "\t2 & 2.4 & 4 & 11.2 & 7.7 & $\\dots$ \\\\\n",
       "\t3 & 1.5 & 4 & 6.0 & 5.8 & $\\dots$ \\\\\n",
       "\t4 & 3.5 & 6 & 12.7 & 9.1 & $\\dots$ \\\\\n",
       "\t5 & 3.5 & 6 & 12.1 & 8.7 & $\\dots$ \\\\\n",
       "\t6 & 3.5 & 6 & 11.9 & 7.7 & $\\dots$ \\\\\n",
       "\t7 & 3.5 & 6 & 11.8 & 8.1 & $\\dots$ \\\\\n",
       "\t8 & 3.7 & 6 & 12.8 & 9.0 & $\\dots$ \\\\\n",
       "\t9 & 3.7 & 6 & 13.4 & 9.5 & $\\dots$ \\\\\n",
       "\t10 & 2.4 & 4 & 10.6 & 7.5 & $\\dots$ \\\\\n",
       "\t11 & 2.4 & 4 & 11.2 & 8.1 & $\\dots$ \\\\\n",
       "\t12 & 3.5 & 6 & 12.1 & 8.3 & $\\dots$ \\\\\n",
       "\t13 & 1.8 & 4 & 9.7 & 6.9 & $\\dots$ \\\\\n",
       "\t14 & 5.9 & 12 & 18.0 & 12.6 & $\\dots$ \\\\\n",
       "\t15 & 5.9 & 12 & 18.0 & 12.6 & $\\dots$ \\\\\n",
       "\t16 & 4.7 & 8 & 17.4 & 11.3 & $\\dots$ \\\\\n",
       "\t17 & 4.7 & 8 & 18.1 & 12.2 & $\\dots$ \\\\\n",
       "\t18 & 4.7 & 8 & 17.4 & 11.3 & $\\dots$ \\\\\n",
       "\t19 & 4.7 & 8 & 18.1 & 12.2 & $\\dots$ \\\\\n",
       "\t20 & 5.9 & 12 & 18.0 & 12.6 & $\\dots$ \\\\\n",
       "\t21 & 2.0 & 4 & 9.9 & 7.4 & $\\dots$ \\\\\n",
       "\t22 & 2.0 & 4 & 11.5 & 8.1 & $\\dots$ \\\\\n",
       "\t23 & 2.0 & 4 & 10.8 & 7.5 & $\\dots$ \\\\\n",
       "\t24 & 2.0 & 4 & 11.5 & 8.1 & $\\dots$ \\\\\n",
       "\t$\\dots$ & $\\dots$ & $\\dots$ & $\\dots$ & $\\dots$ &  \\\\\n",
       "\\end{tabular}\n"
      ],
      "text/plain": [
       "\u001b[1m7385×5 DataFrame\u001b[0m\n",
       "\u001b[1m  Row \u001b[0m│\u001b[1m Engine Size(L) \u001b[0m\u001b[1m Cylinders \u001b[0m\u001b[1m Fuel Consumption City (L/100 km) \u001b[0m\u001b[1m Fuel Cons\u001b[0m ⋯\n",
       "      │\u001b[90m Float64        \u001b[0m\u001b[90m Int64     \u001b[0m\u001b[90m Float64                          \u001b[0m\u001b[90m Float64  \u001b[0m ⋯\n",
       "──────┼─────────────────────────────────────────────────────────────────────────\n",
       "    1 │            2.0          4                               9.9            ⋯\n",
       "    2 │            2.4          4                              11.2\n",
       "    3 │            1.5          4                               6.0\n",
       "    4 │            3.5          6                              12.7\n",
       "    5 │            3.5          6                              12.1            ⋯\n",
       "    6 │            3.5          6                              11.9\n",
       "    7 │            3.5          6                              11.8\n",
       "    8 │            3.7          6                              12.8\n",
       "  ⋮   │       ⋮             ⋮                     ⋮                            ⋱\n",
       " 7379 │            2.0          4                              10.8            ⋯\n",
       " 7380 │            2.0          4                              10.2\n",
       " 7381 │            2.0          4                              10.7\n",
       " 7382 │            2.0          4                              11.2\n",
       " 7383 │            2.0          4                              11.7            ⋯\n",
       " 7384 │            2.0          4                              11.2\n",
       " 7385 │            2.0          4                              12.2\n",
       "\u001b[36m                                                 2 columns and 7370 rows omitted\u001b[0m"
      ]
     },
     "metadata": {},
     "output_type": "display_data"
    }
   ],
   "source": [
    "Xquali =  select(X,Qualitatives)\n",
    "Xquantitatives = select(X,Quantitatives)"
   ]
  },
  {
   "cell_type": "code",
   "execution_count": 7,
   "metadata": {},
   "outputs": [
    {
     "data": {
      "text/plain": [
       "3692-element Vector{Int64}:\n",
       " 179\n",
       " 269\n",
       " 175\n",
       " 210\n",
       " 330\n",
       " 358\n",
       " 225\n",
       " 285\n",
       " 320\n",
       " 347\n",
       "   ⋮\n",
       " 250\n",
       " 274\n",
       " 200\n",
       " 265\n",
       " 205\n",
       " 210\n",
       " 300\n",
       " 222\n",
       " 317"
      ]
     },
     "metadata": {},
     "output_type": "display_data"
    }
   ],
   "source": [
    "XTrain = X[train,:]\n",
    "ycut=cut(y,15)\n",
    "XTest=X[test,:]\n",
    "yTrain = y[train]"
   ]
  },
  {
   "cell_type": "code",
   "execution_count": 33,
   "metadata": {},
   "outputs": [],
   "source": [
    "using  MLJNaiveBayesInterface"
   ]
  },
  {
   "cell_type": "code",
   "execution_count": 40,
   "metadata": {},
   "outputs": [
    {
     "ename": "ErrorException",
     "evalue": "cannot assign a value to imported variable NaiveBayes.GaussianNB from module Main",
     "output_type": "error",
     "traceback": [
      "cannot assign a value to imported variable NaiveBayes.GaussianNB from module Main\n",
      "\n",
      "Stacktrace:\n",
      " [1] top-level scope\n",
      "   @ Untitled-1.ipynb:1"
     ]
    }
   ],
   "source": [
    "GaussianNB = @load GaussianNBClassifier pkg=NaiveBayes"
   ]
  },
  {
   "cell_type": "code",
   "execution_count": 41,
   "metadata": {},
   "outputs": [
    {
     "ename": "MethodError",
     "evalue": "MethodError: no method matching fit(::GaussianNB{Int64}, ::DataFrame, ::Vector{Int64})\n\nClosest candidates are:\n  fit(::GaussianNB, !Matched::Union{SparseArrays.SparseMatrixCSC{F, Int64}, Matrix{F}} where F<:AbstractFloat, ::AbstractVector{C}) where C\n   @ NaiveBayes C:\\Users\\33750\\.julia\\packages\\NaiveBayes\\GK1Nh\\src\\gaussian.jl:1\n  fit(!Matched::Type{StatsBase.Histogram}, ::Any...; kwargs...)\n   @ StatsBase C:\\Users\\33750\\.julia\\packages\\StatsBase\\XgjIN\\src\\hist.jl:407\n  fit(!Matched::Type{D}, ::Any...) where D<:Distributions.Distribution\n   @ Distributions C:\\Users\\33750\\.julia\\packages\\Distributions\\fYgbJ\\src\\genericfit.jl:34\n  ...\n",
     "output_type": "error",
     "traceback": [
      "MethodError: no method matching fit(::GaussianNB{Int64}, ::DataFrame, ::Vector{Int64})\n",
      "\n",
      "Closest candidates are:\n",
      "  fit(::GaussianNB, !Matched::Union{SparseArrays.SparseMatrixCSC{F, Int64}, Matrix{F}} where F<:AbstractFloat, ::AbstractVector{C}) where C\n",
      "   @ NaiveBayes C:\\Users\\33750\\.julia\\packages\\NaiveBayes\\GK1Nh\\src\\gaussian.jl:1\n",
      "  fit(!Matched::Type{StatsBase.Histogram}, ::Any...; kwargs...)\n",
      "   @ StatsBase C:\\Users\\33750\\.julia\\packages\\StatsBase\\XgjIN\\src\\hist.jl:407\n",
      "  fit(!Matched::Type{D}, ::Any...) where D<:Distributions.Distribution\n",
      "   @ Distributions C:\\Users\\33750\\.julia\\packages\\Distributions\\fYgbJ\\src\\genericfit.jl:34\n",
      "  ...\n",
      "\n",
      "\n",
      "Stacktrace:\n",
      " [1] top-level scope\n",
      "   @ Untitled-1.ipynb:2"
     ]
    }
   ],
   "source": [
    "gnb = GaussianNB(unique!(y), 10)\n",
    "fit(gnb, X, y)"
   ]
  },
  {
   "cell_type": "code",
   "execution_count": 35,
   "metadata": {},
   "outputs": [
    {
     "ename": "MethodError",
     "evalue": "MethodError: no method matching GaussianNB()\n\nClosest candidates are:\n  GaussianNB(!Matched::Vector{C}, !Matched::Int64) where C\n   @ NaiveBayes C:\\Users\\33750\\.julia\\packages\\NaiveBayes\\GK1Nh\\src\\nbtypes.jl:75\n  GaussianNB(!Matched::Dict{C, Int64}, !Matched::Dict{C, NaiveBayes.DataStats}, !Matched::Dict{C, Distributions.MvNormal}, !Matched::Int64) where C\n   @ NaiveBayes C:\\Users\\33750\\.julia\\packages\\NaiveBayes\\GK1Nh\\src\\nbtypes.jl:66\n",
     "output_type": "error",
     "traceback": [
      "MethodError: no method matching GaussianNB()\n",
      "\n",
      "Closest candidates are:\n",
      "  GaussianNB(!Matched::Vector{C}, !Matched::Int64) where C\n",
      "   @ NaiveBayes C:\\Users\\33750\\.julia\\packages\\NaiveBayes\\GK1Nh\\src\\nbtypes.jl:75\n",
      "  GaussianNB(!Matched::Dict{C, Int64}, !Matched::Dict{C, NaiveBayes.DataStats}, !Matched::Dict{C, Distributions.MvNormal}, !Matched::Int64) where C\n",
      "   @ NaiveBayes C:\\Users\\33750\\.julia\\packages\\NaiveBayes\\GK1Nh\\src\\nbtypes.jl:66\n",
      "\n",
      "\n",
      "Stacktrace:\n",
      " [1] top-level scope\n",
      "   @ Untitled-1.ipynb:1"
     ]
    }
   ],
   "source": [
    "gnb = GaussianNB()\n",
    "mach = machine(clf, X, y)\n",
    "fit!(mach, XTrain, yTrain)"
   ]
  }
 ],
 "metadata": {
  "kernelspec": {
   "display_name": "Julia 1.9.3",
   "language": "julia",
   "name": "julia-1.9"
  },
  "language_info": {
   "file_extension": ".jl",
   "mimetype": "application/julia",
   "name": "julia",
   "version": "1.9.3"
  }
 },
 "nbformat": 4,
 "nbformat_minor": 2
}
